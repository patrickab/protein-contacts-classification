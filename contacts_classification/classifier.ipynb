{
 "cells": [
  {
   "cell_type": "code",
   "execution_count": 17,
   "id": "51a887de",
   "metadata": {
    "ExecuteTime": {
     "end_time": "2023-05-14T08:58:02.497093898Z",
     "start_time": "2023-05-14T08:58:01.604274210Z"
    }
   },
   "outputs": [],
   "source": [
    "import os\n",
    "import pandas as pd\n",
    "from sklearn.model_selection import train_test_split\n",
    "from sklearn.naive_bayes import GaussianNB, MultinomialNB, CategoricalNB, ComplementNB, BernoulliNB"
   ]
  },
  {
   "cell_type": "code",
   "execution_count": 18,
   "id": "844d72c8",
   "metadata": {
    "ExecuteTime": {
     "end_time": "2023-05-14T08:58:16.077509923Z",
     "start_time": "2023-05-14T08:58:01.614590947Z"
    }
   },
   "outputs": [
    {
     "data": {
      "text/plain": "    pdb_id s_ch  s_resi s_ins s_resn s_ss8  s_rsa  s_up  s_down  s_phi  ...  \\\n0     3gpi    A      17            A     H  0.085  22.0    20.0 -1.017  ...   \n1     3gpi    A     198            Q     H  0.293  12.0     8.0 -1.453  ...   \n2     3gpi    A     198            Q     H  0.293  12.0     8.0 -1.453  ...   \n3     3gpi    A      32            R     -  0.581   8.0    14.0 -1.534  ...   \n4     3gpi    A      32            R     -  0.581   8.0    14.0 -1.534  ...   \n..     ...  ...     ...   ...    ...   ...    ...   ...     ...    ...  ...   \n457   1z2o    X     108            I   NaN    NaN  21.0    13.0 -2.388  ...   \n458   1z2o    X      12            W   NaN    NaN  21.0    13.0 -1.903  ...   \n459   1z2o    X      87            I   NaN    NaN  19.0    12.0 -1.170  ...   \n460   1z2o    X       7            V   NaN    NaN  19.0    10.0 -2.260  ...   \n461   1z2o    X     182            C   NaN    NaN  22.0    16.0 -2.108  ...   \n\n     t_down  t_phi  t_psi  t_ss3   t_a1   t_a2   t_a3   t_a4   t_a5  \\\n0       8.0 -1.170 -0.674      H -1.019 -0.987 -1.505  1.266 -0.912   \n1       6.0 -1.886  1.715      H -0.591 -1.302 -0.733  1.570 -0.146   \n2       6.0 -1.886  1.715      H -0.591 -1.302 -0.733  1.570 -0.146   \n3       4.0 -1.780  1.838      H  0.931 -0.179 -3.005 -0.503 -1.853   \n4       4.0 -1.780  1.838      H  0.931 -0.179 -3.005 -0.503 -1.853   \n..      ...    ...    ...    ...    ...    ...    ...    ...    ...   \n457    18.0 -1.299  2.161      H -1.337 -0.279 -0.544  1.242 -1.262   \n458    15.0 -2.604  2.738      H -0.228  1.399 -4.760  0.670 -2.647   \n459    15.0 -1.099 -0.719      H -0.663 -1.524  2.219 -1.005  1.212   \n460    11.0 -1.810  2.169      H -1.006 -0.590  1.891 -0.397  0.412   \n461    24.0 -1.851 -0.757      H  0.931 -0.179 -3.005 -0.503 -1.853   \n\n    Interaction  \n0         HBOND  \n1         HBOND  \n2           VDW  \n3         HBOND  \n4           VDW  \n..          ...  \n457         NaN  \n458         NaN  \n459       HBOND  \n460         VDW  \n461         NaN  \n\n[735510 rows x 34 columns]",
      "text/html": "<div>\n<style scoped>\n    .dataframe tbody tr th:only-of-type {\n        vertical-align: middle;\n    }\n\n    .dataframe tbody tr th {\n        vertical-align: top;\n    }\n\n    .dataframe thead th {\n        text-align: right;\n    }\n</style>\n<table border=\"1\" class=\"dataframe\">\n  <thead>\n    <tr style=\"text-align: right;\">\n      <th></th>\n      <th>pdb_id</th>\n      <th>s_ch</th>\n      <th>s_resi</th>\n      <th>s_ins</th>\n      <th>s_resn</th>\n      <th>s_ss8</th>\n      <th>s_rsa</th>\n      <th>s_up</th>\n      <th>s_down</th>\n      <th>s_phi</th>\n      <th>...</th>\n      <th>t_down</th>\n      <th>t_phi</th>\n      <th>t_psi</th>\n      <th>t_ss3</th>\n      <th>t_a1</th>\n      <th>t_a2</th>\n      <th>t_a3</th>\n      <th>t_a4</th>\n      <th>t_a5</th>\n      <th>Interaction</th>\n    </tr>\n  </thead>\n  <tbody>\n    <tr>\n      <th>0</th>\n      <td>3gpi</td>\n      <td>A</td>\n      <td>17</td>\n      <td></td>\n      <td>A</td>\n      <td>H</td>\n      <td>0.085</td>\n      <td>22.0</td>\n      <td>20.0</td>\n      <td>-1.017</td>\n      <td>...</td>\n      <td>8.0</td>\n      <td>-1.170</td>\n      <td>-0.674</td>\n      <td>H</td>\n      <td>-1.019</td>\n      <td>-0.987</td>\n      <td>-1.505</td>\n      <td>1.266</td>\n      <td>-0.912</td>\n      <td>HBOND</td>\n    </tr>\n    <tr>\n      <th>1</th>\n      <td>3gpi</td>\n      <td>A</td>\n      <td>198</td>\n      <td></td>\n      <td>Q</td>\n      <td>H</td>\n      <td>0.293</td>\n      <td>12.0</td>\n      <td>8.0</td>\n      <td>-1.453</td>\n      <td>...</td>\n      <td>6.0</td>\n      <td>-1.886</td>\n      <td>1.715</td>\n      <td>H</td>\n      <td>-0.591</td>\n      <td>-1.302</td>\n      <td>-0.733</td>\n      <td>1.570</td>\n      <td>-0.146</td>\n      <td>HBOND</td>\n    </tr>\n    <tr>\n      <th>2</th>\n      <td>3gpi</td>\n      <td>A</td>\n      <td>198</td>\n      <td></td>\n      <td>Q</td>\n      <td>H</td>\n      <td>0.293</td>\n      <td>12.0</td>\n      <td>8.0</td>\n      <td>-1.453</td>\n      <td>...</td>\n      <td>6.0</td>\n      <td>-1.886</td>\n      <td>1.715</td>\n      <td>H</td>\n      <td>-0.591</td>\n      <td>-1.302</td>\n      <td>-0.733</td>\n      <td>1.570</td>\n      <td>-0.146</td>\n      <td>VDW</td>\n    </tr>\n    <tr>\n      <th>3</th>\n      <td>3gpi</td>\n      <td>A</td>\n      <td>32</td>\n      <td></td>\n      <td>R</td>\n      <td>-</td>\n      <td>0.581</td>\n      <td>8.0</td>\n      <td>14.0</td>\n      <td>-1.534</td>\n      <td>...</td>\n      <td>4.0</td>\n      <td>-1.780</td>\n      <td>1.838</td>\n      <td>H</td>\n      <td>0.931</td>\n      <td>-0.179</td>\n      <td>-3.005</td>\n      <td>-0.503</td>\n      <td>-1.853</td>\n      <td>HBOND</td>\n    </tr>\n    <tr>\n      <th>4</th>\n      <td>3gpi</td>\n      <td>A</td>\n      <td>32</td>\n      <td></td>\n      <td>R</td>\n      <td>-</td>\n      <td>0.581</td>\n      <td>8.0</td>\n      <td>14.0</td>\n      <td>-1.534</td>\n      <td>...</td>\n      <td>4.0</td>\n      <td>-1.780</td>\n      <td>1.838</td>\n      <td>H</td>\n      <td>0.931</td>\n      <td>-0.179</td>\n      <td>-3.005</td>\n      <td>-0.503</td>\n      <td>-1.853</td>\n      <td>VDW</td>\n    </tr>\n    <tr>\n      <th>...</th>\n      <td>...</td>\n      <td>...</td>\n      <td>...</td>\n      <td>...</td>\n      <td>...</td>\n      <td>...</td>\n      <td>...</td>\n      <td>...</td>\n      <td>...</td>\n      <td>...</td>\n      <td>...</td>\n      <td>...</td>\n      <td>...</td>\n      <td>...</td>\n      <td>...</td>\n      <td>...</td>\n      <td>...</td>\n      <td>...</td>\n      <td>...</td>\n      <td>...</td>\n      <td>...</td>\n    </tr>\n    <tr>\n      <th>457</th>\n      <td>1z2o</td>\n      <td>X</td>\n      <td>108</td>\n      <td></td>\n      <td>I</td>\n      <td>NaN</td>\n      <td>NaN</td>\n      <td>21.0</td>\n      <td>13.0</td>\n      <td>-2.388</td>\n      <td>...</td>\n      <td>18.0</td>\n      <td>-1.299</td>\n      <td>2.161</td>\n      <td>H</td>\n      <td>-1.337</td>\n      <td>-0.279</td>\n      <td>-0.544</td>\n      <td>1.242</td>\n      <td>-1.262</td>\n      <td>NaN</td>\n    </tr>\n    <tr>\n      <th>458</th>\n      <td>1z2o</td>\n      <td>X</td>\n      <td>12</td>\n      <td></td>\n      <td>W</td>\n      <td>NaN</td>\n      <td>NaN</td>\n      <td>21.0</td>\n      <td>13.0</td>\n      <td>-1.903</td>\n      <td>...</td>\n      <td>15.0</td>\n      <td>-2.604</td>\n      <td>2.738</td>\n      <td>H</td>\n      <td>-0.228</td>\n      <td>1.399</td>\n      <td>-4.760</td>\n      <td>0.670</td>\n      <td>-2.647</td>\n      <td>NaN</td>\n    </tr>\n    <tr>\n      <th>459</th>\n      <td>1z2o</td>\n      <td>X</td>\n      <td>87</td>\n      <td></td>\n      <td>I</td>\n      <td>NaN</td>\n      <td>NaN</td>\n      <td>19.0</td>\n      <td>12.0</td>\n      <td>-1.170</td>\n      <td>...</td>\n      <td>15.0</td>\n      <td>-1.099</td>\n      <td>-0.719</td>\n      <td>H</td>\n      <td>-0.663</td>\n      <td>-1.524</td>\n      <td>2.219</td>\n      <td>-1.005</td>\n      <td>1.212</td>\n      <td>HBOND</td>\n    </tr>\n    <tr>\n      <th>460</th>\n      <td>1z2o</td>\n      <td>X</td>\n      <td>7</td>\n      <td></td>\n      <td>V</td>\n      <td>NaN</td>\n      <td>NaN</td>\n      <td>19.0</td>\n      <td>10.0</td>\n      <td>-2.260</td>\n      <td>...</td>\n      <td>11.0</td>\n      <td>-1.810</td>\n      <td>2.169</td>\n      <td>H</td>\n      <td>-1.006</td>\n      <td>-0.590</td>\n      <td>1.891</td>\n      <td>-0.397</td>\n      <td>0.412</td>\n      <td>VDW</td>\n    </tr>\n    <tr>\n      <th>461</th>\n      <td>1z2o</td>\n      <td>X</td>\n      <td>182</td>\n      <td></td>\n      <td>C</td>\n      <td>NaN</td>\n      <td>NaN</td>\n      <td>22.0</td>\n      <td>16.0</td>\n      <td>-2.108</td>\n      <td>...</td>\n      <td>24.0</td>\n      <td>-1.851</td>\n      <td>-0.757</td>\n      <td>H</td>\n      <td>0.931</td>\n      <td>-0.179</td>\n      <td>-3.005</td>\n      <td>-0.503</td>\n      <td>-1.853</td>\n      <td>NaN</td>\n    </tr>\n  </tbody>\n</table>\n<p>735510 rows × 34 columns</p>\n</div>"
     },
     "execution_count": 18,
     "metadata": {},
     "output_type": "execute_result"
    }
   ],
   "source": [
    "# Combine all PDBs into a single dataframe\n",
    "dfs = []\n",
    "for filename in os.listdir('data/features_ring'):\n",
    "    dfs.append(pd.read_csv('data/features_ring/' + filename, sep='\\t'))\n",
    "df = pd.concat(dfs)\n",
    "df"
   ]
  },
  {
   "cell_type": "code",
   "execution_count": 19,
   "id": "d44dc56d",
   "metadata": {},
   "outputs": [
    {
     "data": {
      "text/plain": "0      HBOND\n1      HBOND\n2        VDW\n3      HBOND\n4        VDW\n       ...  \n315      VDW\n317    HBOND\n319    HBOND\n320    HBOND\n322      VDW\nName: Interaction, Length: 454193, dtype: category\nCategories (6, object): ['HBOND', 'IONIC', 'PICATION', 'PIPISTACK', 'SSBOND', 'VDW']"
     },
     "execution_count": 19,
     "metadata": {},
     "output_type": "execute_result"
    }
   ],
   "source": [
    "# Remove all rows with NaN in at least one column\n",
    "# including rows with missing class (they could be false negatives)\n",
    "df.dropna(inplace=True)\n",
    "\n",
    "# Define ground truth values\n",
    "y = df['Interaction'].astype('category')\n",
    "y"
   ]
  },
  {
   "cell_type": "code",
   "execution_count": 20,
   "id": "61dd378e",
   "metadata": {},
   "outputs": [
    {
     "data": {
      "text/plain": "    s_rsa s_up s_down s_phi s_psi s_a1 s_a2 s_a3 s_a4 s_a5 t_rsa t_up t_down  \\\n0     0.5  0.8    0.7   0.9   0.3  0.4  0.1  0.4  1.0  0.5   0.1  1.0    0.1   \n1     0.7  0.3    0.0   0.3   0.5  0.7  0.5  0.1  0.2  0.1   0.8  0.2    0.0   \n2     0.7  0.3    0.0   0.3   0.5  0.7  0.5  0.1  0.2  0.1   0.8  0.2    0.0   \n3     0.9  0.2    0.3   0.3   0.9  0.9  0.6  0.7  0.6  1.0   0.5  0.4    0.0   \n4     0.9  0.2    0.3   0.3   0.9  0.9  0.6  0.7  0.6  1.0   0.5  0.4    0.0   \n..    ...  ...    ...   ...   ...  ...  ...  ...  ...  ...   ...  ...    ...   \n315   1.0  0.1    0.5   0.4   0.8  0.4  0.1  0.4  1.0  0.5   0.6  0.2    1.0   \n317   0.1  0.7    0.1   0.9   0.5  0.2  0.2  0.3  0.9  0.3   0.6  0.4    0.2   \n319   0.4  0.7    0.8   0.8   0.8  0.9  0.1  0.7  0.5  0.4   0.1  0.8    0.9   \n320   0.1  1.0    0.7   0.3   0.8  0.2  0.2  0.3  0.9  0.3   0.1  0.9    1.0   \n322   0.1  0.8    0.3   0.0   1.0  0.9  0.1  0.7  0.5  0.4   0.1  1.0    0.8   \n\n    t_phi t_psi t_a1 t_a2 t_a3 t_a4 t_a5  \n0     0.6   0.3  0.2  0.2  0.2  0.9  0.3  \n1     0.2   0.7  0.4  0.1  0.3  1.0  0.5  \n2     0.2   0.7  0.4  0.1  0.3  1.0  0.5  \n3     0.2   0.7  0.7  0.6  0.1  0.2  0.1  \n4     0.2   0.7  0.7  0.6  0.1  0.2  0.1  \n..    ...   ...  ...  ...  ...  ...  ...  \n315   0.0   1.0  0.7  0.6  0.1  0.2  0.1  \n317   0.2   0.8  0.3  0.3  0.8  0.2  0.6  \n319   0.3   0.9  0.3  0.3  0.8  0.2  0.6  \n320   0.0   0.8  0.4  0.1  0.3  1.0  0.5  \n322   0.2   0.5  0.5  1.0  0.6  0.7  0.9  \n\n[454193 rows x 20 columns]",
      "text/html": "<div>\n<style scoped>\n    .dataframe tbody tr th:only-of-type {\n        vertical-align: middle;\n    }\n\n    .dataframe tbody tr th {\n        vertical-align: top;\n    }\n\n    .dataframe thead th {\n        text-align: right;\n    }\n</style>\n<table border=\"1\" class=\"dataframe\">\n  <thead>\n    <tr style=\"text-align: right;\">\n      <th></th>\n      <th>s_rsa</th>\n      <th>s_up</th>\n      <th>s_down</th>\n      <th>s_phi</th>\n      <th>s_psi</th>\n      <th>s_a1</th>\n      <th>s_a2</th>\n      <th>s_a3</th>\n      <th>s_a4</th>\n      <th>s_a5</th>\n      <th>t_rsa</th>\n      <th>t_up</th>\n      <th>t_down</th>\n      <th>t_phi</th>\n      <th>t_psi</th>\n      <th>t_a1</th>\n      <th>t_a2</th>\n      <th>t_a3</th>\n      <th>t_a4</th>\n      <th>t_a5</th>\n    </tr>\n  </thead>\n  <tbody>\n    <tr>\n      <th>0</th>\n      <td>0.5</td>\n      <td>0.8</td>\n      <td>0.7</td>\n      <td>0.9</td>\n      <td>0.3</td>\n      <td>0.4</td>\n      <td>0.1</td>\n      <td>0.4</td>\n      <td>1.0</td>\n      <td>0.5</td>\n      <td>0.1</td>\n      <td>1.0</td>\n      <td>0.1</td>\n      <td>0.6</td>\n      <td>0.3</td>\n      <td>0.2</td>\n      <td>0.2</td>\n      <td>0.2</td>\n      <td>0.9</td>\n      <td>0.3</td>\n    </tr>\n    <tr>\n      <th>1</th>\n      <td>0.7</td>\n      <td>0.3</td>\n      <td>0.0</td>\n      <td>0.3</td>\n      <td>0.5</td>\n      <td>0.7</td>\n      <td>0.5</td>\n      <td>0.1</td>\n      <td>0.2</td>\n      <td>0.1</td>\n      <td>0.8</td>\n      <td>0.2</td>\n      <td>0.0</td>\n      <td>0.2</td>\n      <td>0.7</td>\n      <td>0.4</td>\n      <td>0.1</td>\n      <td>0.3</td>\n      <td>1.0</td>\n      <td>0.5</td>\n    </tr>\n    <tr>\n      <th>2</th>\n      <td>0.7</td>\n      <td>0.3</td>\n      <td>0.0</td>\n      <td>0.3</td>\n      <td>0.5</td>\n      <td>0.7</td>\n      <td>0.5</td>\n      <td>0.1</td>\n      <td>0.2</td>\n      <td>0.1</td>\n      <td>0.8</td>\n      <td>0.2</td>\n      <td>0.0</td>\n      <td>0.2</td>\n      <td>0.7</td>\n      <td>0.4</td>\n      <td>0.1</td>\n      <td>0.3</td>\n      <td>1.0</td>\n      <td>0.5</td>\n    </tr>\n    <tr>\n      <th>3</th>\n      <td>0.9</td>\n      <td>0.2</td>\n      <td>0.3</td>\n      <td>0.3</td>\n      <td>0.9</td>\n      <td>0.9</td>\n      <td>0.6</td>\n      <td>0.7</td>\n      <td>0.6</td>\n      <td>1.0</td>\n      <td>0.5</td>\n      <td>0.4</td>\n      <td>0.0</td>\n      <td>0.2</td>\n      <td>0.7</td>\n      <td>0.7</td>\n      <td>0.6</td>\n      <td>0.1</td>\n      <td>0.2</td>\n      <td>0.1</td>\n    </tr>\n    <tr>\n      <th>4</th>\n      <td>0.9</td>\n      <td>0.2</td>\n      <td>0.3</td>\n      <td>0.3</td>\n      <td>0.9</td>\n      <td>0.9</td>\n      <td>0.6</td>\n      <td>0.7</td>\n      <td>0.6</td>\n      <td>1.0</td>\n      <td>0.5</td>\n      <td>0.4</td>\n      <td>0.0</td>\n      <td>0.2</td>\n      <td>0.7</td>\n      <td>0.7</td>\n      <td>0.6</td>\n      <td>0.1</td>\n      <td>0.2</td>\n      <td>0.1</td>\n    </tr>\n    <tr>\n      <th>...</th>\n      <td>...</td>\n      <td>...</td>\n      <td>...</td>\n      <td>...</td>\n      <td>...</td>\n      <td>...</td>\n      <td>...</td>\n      <td>...</td>\n      <td>...</td>\n      <td>...</td>\n      <td>...</td>\n      <td>...</td>\n      <td>...</td>\n      <td>...</td>\n      <td>...</td>\n      <td>...</td>\n      <td>...</td>\n      <td>...</td>\n      <td>...</td>\n      <td>...</td>\n    </tr>\n    <tr>\n      <th>315</th>\n      <td>1.0</td>\n      <td>0.1</td>\n      <td>0.5</td>\n      <td>0.4</td>\n      <td>0.8</td>\n      <td>0.4</td>\n      <td>0.1</td>\n      <td>0.4</td>\n      <td>1.0</td>\n      <td>0.5</td>\n      <td>0.6</td>\n      <td>0.2</td>\n      <td>1.0</td>\n      <td>0.0</td>\n      <td>1.0</td>\n      <td>0.7</td>\n      <td>0.6</td>\n      <td>0.1</td>\n      <td>0.2</td>\n      <td>0.1</td>\n    </tr>\n    <tr>\n      <th>317</th>\n      <td>0.1</td>\n      <td>0.7</td>\n      <td>0.1</td>\n      <td>0.9</td>\n      <td>0.5</td>\n      <td>0.2</td>\n      <td>0.2</td>\n      <td>0.3</td>\n      <td>0.9</td>\n      <td>0.3</td>\n      <td>0.6</td>\n      <td>0.4</td>\n      <td>0.2</td>\n      <td>0.2</td>\n      <td>0.8</td>\n      <td>0.3</td>\n      <td>0.3</td>\n      <td>0.8</td>\n      <td>0.2</td>\n      <td>0.6</td>\n    </tr>\n    <tr>\n      <th>319</th>\n      <td>0.4</td>\n      <td>0.7</td>\n      <td>0.8</td>\n      <td>0.8</td>\n      <td>0.8</td>\n      <td>0.9</td>\n      <td>0.1</td>\n      <td>0.7</td>\n      <td>0.5</td>\n      <td>0.4</td>\n      <td>0.1</td>\n      <td>0.8</td>\n      <td>0.9</td>\n      <td>0.3</td>\n      <td>0.9</td>\n      <td>0.3</td>\n      <td>0.3</td>\n      <td>0.8</td>\n      <td>0.2</td>\n      <td>0.6</td>\n    </tr>\n    <tr>\n      <th>320</th>\n      <td>0.1</td>\n      <td>1.0</td>\n      <td>0.7</td>\n      <td>0.3</td>\n      <td>0.8</td>\n      <td>0.2</td>\n      <td>0.2</td>\n      <td>0.3</td>\n      <td>0.9</td>\n      <td>0.3</td>\n      <td>0.1</td>\n      <td>0.9</td>\n      <td>1.0</td>\n      <td>0.0</td>\n      <td>0.8</td>\n      <td>0.4</td>\n      <td>0.1</td>\n      <td>0.3</td>\n      <td>1.0</td>\n      <td>0.5</td>\n    </tr>\n    <tr>\n      <th>322</th>\n      <td>0.1</td>\n      <td>0.8</td>\n      <td>0.3</td>\n      <td>0.0</td>\n      <td>1.0</td>\n      <td>0.9</td>\n      <td>0.1</td>\n      <td>0.7</td>\n      <td>0.5</td>\n      <td>0.4</td>\n      <td>0.1</td>\n      <td>1.0</td>\n      <td>0.8</td>\n      <td>0.2</td>\n      <td>0.5</td>\n      <td>0.5</td>\n      <td>1.0</td>\n      <td>0.6</td>\n      <td>0.7</td>\n      <td>0.9</td>\n    </tr>\n  </tbody>\n</table>\n<p>454193 rows × 20 columns</p>\n</div>"
     },
     "execution_count": 20,
     "metadata": {},
     "output_type": "execute_result"
    }
   ],
   "source": [
    "# Define training features\n",
    "X = df[['s_rsa', 's_up', 's_down', 's_phi', 's_psi', 's_a1', 's_a2', 's_a3', 's_a4', 's_a5', \n",
    "        't_rsa', 't_up', 't_down', 't_phi', 't_psi', 't_a1', 't_a2', 't_a3', 't_a4', 't_a5']]\n",
    "\n",
    "# Calculate percentiles and transform into categories\n",
    "X = X.rank(pct=True).round(1).astype('category') \n",
    "X"
   ]
  },
  {
   "cell_type": "code",
   "execution_count": 21,
   "id": "a6284c67",
   "metadata": {},
   "outputs": [],
   "source": [
    "# Split the dataset to define training and testing examples\n",
    "X_train, X_test, y_train, y_test = train_test_split(X, y, test_size=0.1, random_state=0)"
   ]
  },
  {
   "cell_type": "markdown",
   "source": [
    "### Test different versions of Naive Bayes"
   ],
   "metadata": {
    "collapsed": false
   }
  },
  {
   "cell_type": "code",
   "execution_count": 22,
   "id": "ab66a302",
   "metadata": {},
   "outputs": [
    {
     "name": "stdout",
     "output_type": "stream",
     "text": [
      "Number of mislabeled points out of a total 45420 points : 17865\n"
     ]
    }
   ],
   "source": [
    "nb = GaussianNB()\n",
    "y_pred = nb.fit(X_train, y_train).predict(X_test)\n",
    "print(\"Number of mislabeled points out of a total %d points : %d\" % (X_test.shape[0], (y_test != y_pred).sum()))"
   ]
  },
  {
   "cell_type": "code",
   "execution_count": 23,
   "id": "72208065",
   "metadata": {},
   "outputs": [
    {
     "name": "stdout",
     "output_type": "stream",
     "text": [
      "Number of mislabeled points out of a total 45420 points : 15631\n"
     ]
    }
   ],
   "source": [
    "nb = MultinomialNB()\n",
    "y_pred = nb.fit(X_train, y_train).predict(X_test)\n",
    "print(\"Number of mislabeled points out of a total %d points : %d\" % (X_test.shape[0], (y_test != y_pred).sum()))"
   ]
  },
  {
   "cell_type": "code",
   "execution_count": 24,
   "id": "4809956f",
   "metadata": {},
   "outputs": [
    {
     "name": "stdout",
     "output_type": "stream",
     "text": [
      "Number of mislabeled points out of a total 45420 points : 16950\n"
     ]
    }
   ],
   "source": [
    "nb = ComplementNB()\n",
    "y_pred = nb.fit(X_train, y_train).predict(X_test)\n",
    "print(\"Number of mislabeled points out of a total %d points : %d\" % (X_test.shape[0], (y_test != y_pred).sum()))"
   ]
  },
  {
   "cell_type": "code",
   "execution_count": 25,
   "id": "10a35e1f",
   "metadata": {},
   "outputs": [
    {
     "name": "stdout",
     "output_type": "stream",
     "text": [
      "Number of mislabeled points out of a total 45420 points : 15454\n"
     ]
    }
   ],
   "source": [
    "nb = BernoulliNB()\n",
    "y_pred = nb.fit(X_train, y_train).predict(X_test)\n",
    "print(\"Number of mislabeled points out of a total %d points : %d\" % (X_test.shape[0], (y_test != y_pred).sum()))"
   ]
  },
  {
   "cell_type": "code",
   "execution_count": 26,
   "id": "8ea3c374",
   "metadata": {},
   "outputs": [
    {
     "name": "stdout",
     "output_type": "stream",
     "text": [
      "Number of mislabeled points out of a total 45420 points : 15460\n"
     ]
    }
   ],
   "source": [
    "nb = CategoricalNB()\n",
    "y_pred = nb.fit(X_train, y_train).predict(X_test)\n",
    "print(\"Number of mislabeled points out of a total %d points : %d\" % (X_test.shape[0], (y_test != y_pred).sum()))"
   ]
  }
 ],
 "metadata": {
  "kernelspec": {
   "display_name": "Python 3 (ipykernel)",
   "language": "python",
   "name": "python3"
  },
  "language_info": {
   "codemirror_mode": {
    "name": "ipython",
    "version": 3
   },
   "file_extension": ".py",
   "mimetype": "text/x-python",
   "name": "python",
   "nbconvert_exporter": "python",
   "pygments_lexer": "ipython3",
   "version": "3.9.12"
  }
 },
 "nbformat": 4,
 "nbformat_minor": 5
}
